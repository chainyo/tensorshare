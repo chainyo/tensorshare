{
 "cells": [
  {
   "cell_type": "markdown",
   "metadata": {},
   "source": [
    "# Basic install and imports"
   ]
  },
  {
   "cell_type": "code",
   "execution_count": 1,
   "metadata": {},
   "outputs": [
    {
     "name": "stdout",
     "output_type": "stream",
     "text": [
      "Collecting git+https://github.com/chainyo/tensorshare.git\n",
      "  Cloning https://github.com/chainyo/tensorshare.git to /private/var/folders/5c/zjqkwlzn7fsbdcdqyphg98jc0000gn/T/pip-req-build-_4s8poyn\n",
      "  Running command git clone --filter=blob:none --quiet https://github.com/chainyo/tensorshare.git /private/var/folders/5c/zjqkwlzn7fsbdcdqyphg98jc0000gn/T/pip-req-build-_4s8poyn\n",
      "  Resolved https://github.com/chainyo/tensorshare.git to commit 709422db8d47712f88ed981956b5f96be9d2d57a\n",
      "  Installing build dependencies ... \u001b[?25ldone\n",
      "\u001b[?25h  Getting requirements to build wheel ... \u001b[?25ldone\n",
      "\u001b[?25h  Preparing metadata (pyproject.toml) ... \u001b[?25ldone\n",
      "\u001b[?25hRequirement already satisfied: pydantic>=2.1.1 in /Users/chainyo/miniconda3/envs/test-ts/lib/python3.8/site-packages (from tensorshare==0.0.5) (2.1.1)\n",
      "Requirement already satisfied: safetensors>=0.3.1 in /Users/chainyo/miniconda3/envs/test-ts/lib/python3.8/site-packages (from tensorshare==0.0.5) (0.3.2)\n",
      "Requirement already satisfied: annotated-types>=0.4.0 in /Users/chainyo/miniconda3/envs/test-ts/lib/python3.8/site-packages (from pydantic>=2.1.1->tensorshare==0.0.5) (0.5.0)\n",
      "Requirement already satisfied: pydantic-core==2.4.0 in /Users/chainyo/miniconda3/envs/test-ts/lib/python3.8/site-packages (from pydantic>=2.1.1->tensorshare==0.0.5) (2.4.0)\n",
      "Requirement already satisfied: typing-extensions>=4.6.1 in /Users/chainyo/miniconda3/envs/test-ts/lib/python3.8/site-packages (from pydantic>=2.1.1->tensorshare==0.0.5) (4.7.1)\n"
     ]
    }
   ],
   "source": [
    "!pip install git+https://github.com/chainyo/tensorshare.git"
   ]
  },
  {
   "cell_type": "code",
   "execution_count": 2,
   "metadata": {},
   "outputs": [
    {
     "name": "stdout",
     "output_type": "stream",
     "text": [
      "Backend.FLAX\n",
      "Backend.NUMPY\n",
      "Backend.PADDLEPADDLE\n",
      "Backend.TORCH\n",
      "TensorType.FLAX\n",
      "TensorType.NUMPY\n",
      "TensorType.PADDLEPADDLE\n",
      "TensorType.TORCH\n",
      "<class 'tensorshare.schema.DefaultResponse'>\n",
      "<class 'tensorshare.schema.TensorShare'>\n",
      "<class 'tensorshare.schema.TensorShareServer'>\n"
     ]
    }
   ],
   "source": [
    "from tensorshare import (\n",
    "    Backend,\n",
    "    DefaultResponse,\n",
    "    TensorShare,\n",
    "    TensorShareServer,\n",
    "    TensorType,\n",
    ")\n",
    "\n",
    "for b in Backend:\n",
    "    print(b)\n",
    "\n",
    "for t in TensorType:\n",
    "    print(t)\n",
    "\n",
    "print(DefaultResponse)\n",
    "print(TensorShare)\n",
    "print(TensorShareServer)"
   ]
  },
  {
   "cell_type": "markdown",
   "metadata": {},
   "source": [
    "## Serialization"
   ]
  },
  {
   "cell_type": "markdown",
   "metadata": {},
   "source": [
    "### Flax"
   ]
  },
  {
   "cell_type": "code",
   "execution_count": 30,
   "metadata": {},
   "outputs": [
    {
     "name": "stdout",
     "output_type": "stream",
     "text": [
      "Collecting flax\n",
      "  Obtaining dependency information for flax from https://files.pythonhosted.org/packages/72/a7/147bd0682ff39a4e59352506a7d858e1e003f05a2d96e431fabb8a5491e4/flax-0.7.2-py3-none-any.whl.metadata\n",
      "  Using cached flax-0.7.2-py3-none-any.whl.metadata (10.0 kB)\n",
      "Collecting jax==0.4.13\n",
      "  Using cached jax-0.4.13-py3-none-any.whl\n",
      "Collecting jaxlib==0.4.13\n",
      "  Obtaining dependency information for jaxlib==0.4.13 from https://files.pythonhosted.org/packages/d9/8e/0925aa960a0154805e7a34bd60a1d182f2f2d460f9c4df0ea2add19b733e/jaxlib-0.4.13-cp38-cp38-macosx_11_0_arm64.whl.metadata\n",
      "  Using cached jaxlib-0.4.13-cp38-cp38-macosx_11_0_arm64.whl.metadata (2.1 kB)\n",
      "Requirement already satisfied: numpy in /Users/chainyo/miniconda3/envs/test-ts/lib/python3.8/site-packages (1.24.4)\n",
      "Collecting ml-dtypes>=0.1.0 (from jax==0.4.13)\n",
      "  Obtaining dependency information for ml-dtypes>=0.1.0 from https://files.pythonhosted.org/packages/02/ae/8107b467ae5312be9dd434b818c2aceec7cbd2a1c00b0ed81aeb63d0a4bc/ml_dtypes-0.2.0-cp38-cp38-macosx_10_9_universal2.whl.metadata\n",
      "  Using cached ml_dtypes-0.2.0-cp38-cp38-macosx_10_9_universal2.whl.metadata (20 kB)\n",
      "Requirement already satisfied: opt-einsum in /Users/chainyo/miniconda3/envs/test-ts/lib/python3.8/site-packages (from jax==0.4.13) (3.3.0)\n",
      "Collecting scipy>=1.7 (from jax==0.4.13)\n",
      "  Using cached scipy-1.10.1-cp38-cp38-macosx_12_0_arm64.whl (28.8 MB)\n",
      "Requirement already satisfied: importlib-metadata>=4.6 in /Users/chainyo/miniconda3/envs/test-ts/lib/python3.8/site-packages (from jax==0.4.13) (6.8.0)\n",
      "Collecting msgpack (from flax)\n",
      "  Using cached msgpack-1.0.5-cp38-cp38-macosx_11_0_arm64.whl (68 kB)\n",
      "Collecting optax (from flax)\n",
      "  Obtaining dependency information for optax from https://files.pythonhosted.org/packages/13/71/787cc24c4b606f3bb9f1d14957ebd7cb9e4234f6d59081721230b2032196/optax-0.1.7-py3-none-any.whl.metadata\n",
      "  Using cached optax-0.1.7-py3-none-any.whl.metadata (13 kB)\n",
      "Collecting orbax-checkpoint (from flax)\n",
      "  Obtaining dependency information for orbax-checkpoint from https://files.pythonhosted.org/packages/4d/b4/84e8fc35bb8852e602a642d6e8eabcd18e0b6d2676d9143059d781f64181/orbax_checkpoint-0.2.3-py3-none-any.whl.metadata\n",
      "  Using cached orbax_checkpoint-0.2.3-py3-none-any.whl.metadata (1.8 kB)\n",
      "Collecting tensorstore (from flax)\n",
      "  Obtaining dependency information for tensorstore from https://files.pythonhosted.org/packages/cf/08/437f4c186dd0be613e9e611d97c89b87507a4b1d1290998b81f6ad4d2348/tensorstore-0.1.41-cp38-cp38-macosx_11_0_arm64.whl.metadata\n",
      "  Using cached tensorstore-0.1.41-cp38-cp38-macosx_11_0_arm64.whl.metadata (2.9 kB)\n",
      "Collecting rich>=11.1 (from flax)\n",
      "  Obtaining dependency information for rich>=11.1 from https://files.pythonhosted.org/packages/8d/5f/21a93b2ec205f4b79853ff6e838e3c99064d5dbe85ec6b05967506f14af0/rich-13.5.2-py3-none-any.whl.metadata\n",
      "  Using cached rich-13.5.2-py3-none-any.whl.metadata (18 kB)\n",
      "Requirement already satisfied: typing-extensions>=4.1.1 in /Users/chainyo/miniconda3/envs/test-ts/lib/python3.8/site-packages (from flax) (4.7.1)\n",
      "Collecting PyYAML>=5.4.1 (from flax)\n",
      "  Using cached PyYAML-6.0.1-cp38-cp38-macosx_13_0_arm64.whl\n",
      "Requirement already satisfied: zipp>=0.5 in /Users/chainyo/miniconda3/envs/test-ts/lib/python3.8/site-packages (from importlib-metadata>=4.6->jax==0.4.13) (3.16.2)\n",
      "Collecting markdown-it-py>=2.2.0 (from rich>=11.1->flax)\n",
      "  Obtaining dependency information for markdown-it-py>=2.2.0 from https://files.pythonhosted.org/packages/42/d7/1ec15b46af6af88f19b8e5ffea08fa375d433c998b8a7639e76935c14f1f/markdown_it_py-3.0.0-py3-none-any.whl.metadata\n",
      "  Using cached markdown_it_py-3.0.0-py3-none-any.whl.metadata (6.9 kB)\n",
      "Requirement already satisfied: pygments<3.0.0,>=2.13.0 in /Users/chainyo/miniconda3/envs/test-ts/lib/python3.8/site-packages (from rich>=11.1->flax) (2.16.1)\n",
      "Collecting absl-py>=0.7.1 (from optax->flax)\n",
      "  Using cached absl_py-1.4.0-py3-none-any.whl (126 kB)\n",
      "Collecting chex>=0.1.5 (from optax->flax)\n",
      "  Using cached chex-0.1.7-py3-none-any.whl (89 kB)\n",
      "Collecting cached_property (from orbax-checkpoint->flax)\n",
      "  Using cached cached_property-1.5.2-py2.py3-none-any.whl (7.6 kB)\n",
      "Collecting importlib_resources (from orbax-checkpoint->flax)\n",
      "  Obtaining dependency information for importlib_resources from https://files.pythonhosted.org/packages/25/d4/592f53ce2f8dde8be5720851bd0ab71cc2e76c55978e4163ef1ab7e389bb/importlib_resources-6.0.1-py3-none-any.whl.metadata\n",
      "  Using cached importlib_resources-6.0.1-py3-none-any.whl.metadata (4.0 kB)\n",
      "Collecting etils (from orbax-checkpoint->flax)\n",
      "  Obtaining dependency information for etils from https://files.pythonhosted.org/packages/ca/db/47ffb866d7a1aa21132a72f67e84c4f03a4cad11ae9d069dd61c52f929de/etils-1.3.0-py3-none-any.whl.metadata\n",
      "  Using cached etils-1.3.0-py3-none-any.whl.metadata (5.5 kB)\n",
      "Requirement already satisfied: nest_asyncio in /Users/chainyo/miniconda3/envs/test-ts/lib/python3.8/site-packages (from orbax-checkpoint->flax) (1.5.7)\n",
      "Collecting dm-tree>=0.1.5 (from chex>=0.1.5->optax->flax)\n",
      "  Using cached dm_tree-0.1.8-cp38-cp38-macosx_11_0_arm64.whl (110 kB)\n",
      "Collecting toolz>=0.9.0 (from chex>=0.1.5->optax->flax)\n",
      "  Using cached toolz-0.12.0-py3-none-any.whl (55 kB)\n",
      "Collecting mdurl~=0.1 (from markdown-it-py>=2.2.0->rich>=11.1->flax)\n",
      "  Using cached mdurl-0.1.2-py3-none-any.whl (10.0 kB)\n",
      "Using cached jaxlib-0.4.13-cp38-cp38-macosx_11_0_arm64.whl (60.5 MB)\n",
      "Using cached flax-0.7.2-py3-none-any.whl (226 kB)\n",
      "Using cached ml_dtypes-0.2.0-cp38-cp38-macosx_10_9_universal2.whl (1.2 MB)\n",
      "Using cached rich-13.5.2-py3-none-any.whl (239 kB)\n",
      "Using cached optax-0.1.7-py3-none-any.whl (154 kB)\n",
      "Using cached orbax_checkpoint-0.2.3-py3-none-any.whl (81 kB)\n",
      "Using cached tensorstore-0.1.41-cp38-cp38-macosx_11_0_arm64.whl (11.9 MB)\n",
      "Using cached markdown_it_py-3.0.0-py3-none-any.whl (87 kB)\n",
      "Using cached etils-1.3.0-py3-none-any.whl (126 kB)\n",
      "Using cached importlib_resources-6.0.1-py3-none-any.whl (34 kB)\n",
      "Installing collected packages: msgpack, dm-tree, cached_property, toolz, tensorstore, scipy, PyYAML, ml-dtypes, mdurl, importlib_resources, etils, absl-py, markdown-it-py, jaxlib, jax, rich, orbax-checkpoint, chex, optax, flax\n",
      "Successfully installed PyYAML-6.0.1 absl-py-1.4.0 cached_property-1.5.2 chex-0.1.7 dm-tree-0.1.8 etils-1.3.0 flax-0.7.2 importlib_resources-6.0.1 jax-0.4.13 jaxlib-0.4.13 markdown-it-py-3.0.0 mdurl-0.1.2 ml-dtypes-0.2.0 msgpack-1.0.5 optax-0.1.7 orbax-checkpoint-0.2.3 rich-13.5.2 scipy-1.10.1 tensorstore-0.1.41 toolz-0.12.0\n"
     ]
    }
   ],
   "source": [
    "!pip install flax jax==0.4.13 jaxlib==0.4.13 numpy"
   ]
  },
  {
   "cell_type": "code",
   "execution_count": 32,
   "metadata": {},
   "outputs": [
    {
     "name": "stdout",
     "output_type": "stream",
     "text": [
      "tensors=b'gAAAAAAAAAB7ImVtYmVkZGluZ3MiOnsiZHR5cGUiOiJGMzIiLCJzaGFwZSI6WzIsMl0sImRhdGFfb2Zmc2V0cyI6WzAsMTZdfSwibGFiZWxzIjp7ImR0eXBlIjoiRjMyIiwic2hhcGUiOlsyLDJdLCJkYXRhX29mZnNldHMiOlsxNiwzMl19fQAAAAAAAAAAAAAAAAAAAAAAAAAAAAAAAAAAAAAAAAAA' size=168\n",
      "{'labels': Array([[0., 0.],\n",
      "       [0., 0.]], dtype=float32), 'embeddings': Array([[0., 0.],\n",
      "       [0., 0.]], dtype=float32)}\n"
     ]
    }
   ],
   "source": [
    "import jax.numpy as jnp\n",
    "from tensorshare import Backend, TensorShare\n",
    "\n",
    "tensors = {\n",
    "    \"embeddings\": jnp.zeros((2, 2)),\n",
    "    \"labels\": jnp.zeros((2, 2)),\n",
    "}\n",
    "ts = TensorShare.from_dict(tensors, backend=Backend.FLAX)\n",
    "print(ts)\n",
    "\n",
    "tensors_flax = ts.to_tensors(backend=Backend.FLAX)\n",
    "print(tensors_flax)"
   ]
  },
  {
   "cell_type": "code",
   "execution_count": 18,
   "metadata": {},
   "outputs": [
    {
     "name": "stdout",
     "output_type": "stream",
     "text": [
      "Collecting paddlepaddle\n",
      "  Obtaining dependency information for paddlepaddle from https://files.pythonhosted.org/packages/13/54/db2e6aae0336e76e87188136bc652f4a2a7f58a39b7cb4488807570490f8/paddlepaddle-2.5.1-cp38-cp38-macosx_11_0_arm64.whl.metadata\n",
      "  Using cached paddlepaddle-2.5.1-cp38-cp38-macosx_11_0_arm64.whl.metadata (8.6 kB)\n",
      "Requirement already satisfied: numpy in /Users/chainyo/miniconda3/envs/test-ts/lib/python3.8/site-packages (1.24.4)\n",
      "Collecting httpx (from paddlepaddle)\n",
      "  Obtaining dependency information for httpx from https://files.pythonhosted.org/packages/ec/91/e41f64f03d2a13aee7e8c819d82ee3aa7cdc484d18c0ae859742597d5aa0/httpx-0.24.1-py3-none-any.whl.metadata\n",
      "  Using cached httpx-0.24.1-py3-none-any.whl.metadata (7.4 kB)\n",
      "Collecting Pillow (from paddlepaddle)\n",
      "  Obtaining dependency information for Pillow from https://files.pythonhosted.org/packages/fb/f6/f59a7c86f9966b19f20bf42bcb136f2e72352b08c0edec079d9d8087fa36/Pillow-10.0.0-cp38-cp38-macosx_11_0_arm64.whl.metadata\n",
      "  Using cached Pillow-10.0.0-cp38-cp38-macosx_11_0_arm64.whl.metadata (9.5 kB)\n",
      "Requirement already satisfied: decorator in /Users/chainyo/miniconda3/envs/test-ts/lib/python3.8/site-packages (from paddlepaddle) (5.1.1)\n",
      "Collecting astor (from paddlepaddle)\n",
      "  Using cached astor-0.8.1-py2.py3-none-any.whl (27 kB)\n",
      "Collecting paddle-bfloat==0.1.7 (from paddlepaddle)\n",
      "  Using cached paddle_bfloat-0.1.7-cp38-cp38-macosx_11_0_arm64.whl (41 kB)\n",
      "Collecting opt-einsum==3.3.0 (from paddlepaddle)\n",
      "  Using cached opt_einsum-3.3.0-py3-none-any.whl (65 kB)\n",
      "Collecting protobuf>=3.20.2 (from paddlepaddle)\n",
      "  Obtaining dependency information for protobuf>=3.20.2 from https://files.pythonhosted.org/packages/01/f5/4d4465795340d288de56ecae61fac7d3a646eb26dc6face8578d31fcafff/protobuf-4.24.0-cp37-abi3-macosx_10_9_universal2.whl.metadata\n",
      "  Using cached protobuf-4.24.0-cp37-abi3-macosx_10_9_universal2.whl.metadata (540 bytes)\n",
      "Collecting certifi (from httpx->paddlepaddle)\n",
      "  Obtaining dependency information for certifi from https://files.pythonhosted.org/packages/4c/dd/2234eab22353ffc7d94e8d13177aaa050113286e93e7b40eae01fbf7c3d9/certifi-2023.7.22-py3-none-any.whl.metadata\n",
      "  Using cached certifi-2023.7.22-py3-none-any.whl.metadata (2.2 kB)\n",
      "Collecting httpcore<0.18.0,>=0.15.0 (from httpx->paddlepaddle)\n",
      "  Obtaining dependency information for httpcore<0.18.0,>=0.15.0 from https://files.pythonhosted.org/packages/94/2c/2bde7ff8dd2064395555220cbf7cba79991172bf5315a07eb3ac7688d9f1/httpcore-0.17.3-py3-none-any.whl.metadata\n",
      "  Using cached httpcore-0.17.3-py3-none-any.whl.metadata (18 kB)\n",
      "Collecting idna (from httpx->paddlepaddle)\n",
      "  Using cached idna-3.4-py3-none-any.whl (61 kB)\n",
      "Collecting sniffio (from httpx->paddlepaddle)\n",
      "  Using cached sniffio-1.3.0-py3-none-any.whl (10 kB)\n",
      "Collecting h11<0.15,>=0.13 (from httpcore<0.18.0,>=0.15.0->httpx->paddlepaddle)\n",
      "  Using cached h11-0.14.0-py3-none-any.whl (58 kB)\n",
      "Collecting anyio<5.0,>=3.0 (from httpcore<0.18.0,>=0.15.0->httpx->paddlepaddle)\n",
      "  Obtaining dependency information for anyio<5.0,>=3.0 from https://files.pythonhosted.org/packages/19/24/44299477fe7dcc9cb58d0a57d5a7588d6af2ff403fdd2d47a246c91a3246/anyio-3.7.1-py3-none-any.whl.metadata\n",
      "  Using cached anyio-3.7.1-py3-none-any.whl.metadata (4.7 kB)\n",
      "Collecting exceptiongroup (from anyio<5.0,>=3.0->httpcore<0.18.0,>=0.15.0->httpx->paddlepaddle)\n",
      "  Obtaining dependency information for exceptiongroup from https://files.pythonhosted.org/packages/ad/83/b71e58666f156a39fb29417e4c8ca4bc7400c0dd4ed9e8842ab54dc8c344/exceptiongroup-1.1.3-py3-none-any.whl.metadata\n",
      "  Downloading exceptiongroup-1.1.3-py3-none-any.whl.metadata (6.1 kB)\n",
      "Using cached paddlepaddle-2.5.1-cp38-cp38-macosx_11_0_arm64.whl (48.8 MB)\n",
      "Using cached protobuf-4.24.0-cp37-abi3-macosx_10_9_universal2.whl (409 kB)\n",
      "Using cached httpx-0.24.1-py3-none-any.whl (75 kB)\n",
      "Using cached Pillow-10.0.0-cp38-cp38-macosx_11_0_arm64.whl (3.1 MB)\n",
      "Using cached httpcore-0.17.3-py3-none-any.whl (74 kB)\n",
      "Using cached certifi-2023.7.22-py3-none-any.whl (158 kB)\n",
      "Using cached anyio-3.7.1-py3-none-any.whl (80 kB)\n",
      "Downloading exceptiongroup-1.1.3-py3-none-any.whl (14 kB)\n",
      "Installing collected packages: paddle-bfloat, sniffio, protobuf, Pillow, opt-einsum, idna, h11, exceptiongroup, certifi, astor, anyio, httpcore, httpx, paddlepaddle\n",
      "Successfully installed Pillow-10.0.0 anyio-3.7.1 astor-0.8.1 certifi-2023.7.22 exceptiongroup-1.1.3 h11-0.14.0 httpcore-0.17.3 httpx-0.24.1 idna-3.4 opt-einsum-3.3.0 paddle-bfloat-0.1.7 paddlepaddle-2.5.1 protobuf-4.24.0 sniffio-1.3.0\n"
     ]
    }
   ],
   "source": [
    "!pip install paddlepaddle numpy"
   ]
  },
  {
   "cell_type": "code",
   "execution_count": 24,
   "metadata": {},
   "outputs": [
    {
     "name": "stdout",
     "output_type": "stream",
     "text": [
      "tensors=b'gAAAAAAAAAB7ImVtYmVkZGluZ3MiOnsiZHR5cGUiOiJGMzIiLCJzaGFwZSI6WzIsMl0sImRhdGFfb2Zmc2V0cyI6WzAsMTZdfSwibGFiZWxzIjp7ImR0eXBlIjoiRjMyIiwic2hhcGUiOlsyLDJdLCJkYXRhX29mZnNldHMiOlsxNiwzMl19fQAAAAAAAAAAAAAAAAAAAAAAAAAAAAAAAAAAAAAAAAAA' size=168\n",
      "{'labels': Tensor(shape=[2, 2], dtype=float32, place=Place(cpu), stop_gradient=True,\n",
      "       [[0., 0.],\n",
      "        [0., 0.]]), 'embeddings': Tensor(shape=[2, 2], dtype=float32, place=Place(cpu), stop_gradient=True,\n",
      "       [[0., 0.],\n",
      "        [0., 0.]])}\n"
     ]
    }
   ],
   "source": [
    "import paddle\n",
    "from tensorshare import Backend, TensorShare\n",
    "\n",
    "tensors = {\n",
    "    \"embeddings\": paddle.zeros((2, 2)),\n",
    "    \"labels\": paddle.zeros((2, 2)),\n",
    "}\n",
    "ts = TensorShare.from_dict(tensors, backend=Backend.PADDLEPADDLE)\n",
    "print(ts)\n",
    "\n",
    "tensors_paddle = ts.to_tensors(backend=Backend.PADDLEPADDLE)\n",
    "print(tensors_paddle)"
   ]
  },
  {
   "cell_type": "markdown",
   "metadata": {},
   "source": [
    "### Torch"
   ]
  },
  {
   "cell_type": "code",
   "execution_count": 10,
   "metadata": {},
   "outputs": [
    {
     "name": "stdout",
     "output_type": "stream",
     "text": [
      "Requirement already satisfied: torch in /Users/chainyo/miniconda3/envs/test-ts/lib/python3.8/site-packages (2.0.1)\n",
      "Collecting numpy\n",
      "  Obtaining dependency information for numpy from https://files.pythonhosted.org/packages/a7/ae/f53b7b265fdc701e663fbb322a8e9d4b14d9cb7b2385f45ddfabfc4327e4/numpy-1.24.4-cp38-cp38-macosx_11_0_arm64.whl.metadata\n",
      "  Using cached numpy-1.24.4-cp38-cp38-macosx_11_0_arm64.whl.metadata (5.6 kB)\n",
      "Requirement already satisfied: filelock in /Users/chainyo/miniconda3/envs/test-ts/lib/python3.8/site-packages (from torch) (3.12.2)\n",
      "Requirement already satisfied: typing-extensions in /Users/chainyo/miniconda3/envs/test-ts/lib/python3.8/site-packages (from torch) (4.7.1)\n",
      "Requirement already satisfied: sympy in /Users/chainyo/miniconda3/envs/test-ts/lib/python3.8/site-packages (from torch) (1.12)\n",
      "Requirement already satisfied: networkx in /Users/chainyo/miniconda3/envs/test-ts/lib/python3.8/site-packages (from torch) (3.1)\n",
      "Requirement already satisfied: jinja2 in /Users/chainyo/miniconda3/envs/test-ts/lib/python3.8/site-packages (from torch) (3.1.2)\n",
      "Requirement already satisfied: MarkupSafe>=2.0 in /Users/chainyo/miniconda3/envs/test-ts/lib/python3.8/site-packages (from jinja2->torch) (2.1.3)\n",
      "Requirement already satisfied: mpmath>=0.19 in /Users/chainyo/miniconda3/envs/test-ts/lib/python3.8/site-packages (from sympy->torch) (1.3.0)\n",
      "Using cached numpy-1.24.4-cp38-cp38-macosx_11_0_arm64.whl (13.8 MB)\n",
      "Installing collected packages: numpy\n",
      "Successfully installed numpy-1.24.4\n"
     ]
    }
   ],
   "source": [
    "!pip install torch numpy"
   ]
  },
  {
   "cell_type": "code",
   "execution_count": 22,
   "metadata": {},
   "outputs": [
    {
     "name": "stdout",
     "output_type": "stream",
     "text": [
      "tensors=b'gAAAAAAAAAB7ImVtYmVkZGluZ3MiOnsiZHR5cGUiOiJGMzIiLCJzaGFwZSI6WzIsMl0sImRhdGFfb2Zmc2V0cyI6WzAsMTZdfSwibGFiZWxzIjp7ImR0eXBlIjoiRjMyIiwic2hhcGUiOlsyLDJdLCJkYXRhX29mZnNldHMiOlsxNiwzMl19fQAAAAAAAAAAAAAAAAAAAAAAAAAAAAAAAAAAAAAAAAAA' size=168\n",
      "{'labels': array([[0., 0.],\n",
      "       [0., 0.]], dtype=float32), 'embeddings': array([[0., 0.],\n",
      "       [0., 0.]], dtype=float32)}\n"
     ]
    }
   ],
   "source": [
    "import torch\n",
    "from tensorshare import Backend, TensorShare\n",
    "\n",
    "tensors = {\n",
    "    \"embeddings\": torch.zeros((2, 2)),\n",
    "    \"labels\": torch.zeros((2, 2)),\n",
    "}\n",
    "ts = TensorShare.from_dict(tensors, backend=Backend.TORCH)\n",
    "print(ts)\n",
    "\n",
    "\n",
    "np_tensors = ts.to_tensors(backend=Backend.NUMPY)\n",
    "print(np_tensors)"
   ]
  },
  {
   "cell_type": "markdown",
   "metadata": {},
   "source": [
    "### NumPy"
   ]
  },
  {
   "cell_type": "code",
   "execution_count": 13,
   "metadata": {},
   "outputs": [
    {
     "name": "stdout",
     "output_type": "stream",
     "text": [
      "Requirement already satisfied: numpy in /Users/chainyo/miniconda3/envs/test-ts/lib/python3.8/site-packages (1.24.4)\n"
     ]
    }
   ],
   "source": [
    "!pip install numpy"
   ]
  },
  {
   "cell_type": "code",
   "execution_count": 21,
   "metadata": {},
   "outputs": [
    {
     "name": "stdout",
     "output_type": "stream",
     "text": [
      "tensors=b'gAAAAAAAAAB7ImVtYmVkZGluZ3MiOnsiZHR5cGUiOiJGNjQiLCJzaGFwZSI6WzIsMl0sImRhdGFfb2Zmc2V0cyI6WzAsMzJdfSwibGFiZWxzIjp7ImR0eXBlIjoiRjY0Iiwic2hhcGUiOlsyLDJdLCJkYXRhX29mZnNldHMiOlszMiw2NF19fQAAAAAAAAAAAAAAAAAAAAAAAAAAAAAAAAAAAAAAAAAAAAAAAAAAAAAAAAAAAAAAAAAAAAAAAAAAAAAAAAAAAAA=' size=200\n",
      "{'labels': array([[0., 0.],\n",
      "       [0., 0.]]), 'embeddings': array([[0., 0.],\n",
      "       [0., 0.]])}\n"
     ]
    }
   ],
   "source": [
    "import numpy as np\n",
    "from tensorshare import Backend, TensorShare\n",
    "\n",
    "tensors = {\n",
    "    \"embeddings\": np.zeros((2, 2)),\n",
    "    \"labels\": np.zeros((2, 2)),\n",
    "}\n",
    "ts = TensorShare.from_dict(tensors, backend=Backend.NUMPY)\n",
    "print(ts)\n",
    "\n",
    "tensors_numpy = ts.to_tensors(backend=Backend.NUMPY)\n",
    "print(tensors_numpy)"
   ]
  },
  {
   "cell_type": "markdown",
   "metadata": {},
   "source": [
    "## TensorShareServer"
   ]
  },
  {
   "cell_type": "code",
   "execution_count": 33,
   "metadata": {},
   "outputs": [
    {
     "name": "stdout",
     "output_type": "stream",
     "text": [
      "url=Url('http://localhost:5000/') ping=Url('http://localhost:5000/ping') receive_tensor=Url('http://localhost:5000/receive_tensor') response_model=<class 'tensorshare.schema.DefaultResponse'>\n"
     ]
    }
   ],
   "source": [
    "from tensorshare import DefaultResponse, TensorShareServer\n",
    "\n",
    "config = TensorShareServer.from_dict(\n",
    "    server_config={\n",
    "        \"url\": \"http://localhost:5000\",      # required\n",
    "        \"ping\": \"ping\",                      # optional\n",
    "        \"receive_tensor\": \"receive_tensor\",  # optional\n",
    "        \"response_model\": DefaultResponse,   # optional\n",
    "    }\n",
    ")\n",
    "print(config)\n"
   ]
  },
  {
   "cell_type": "code",
   "execution_count": 35,
   "metadata": {},
   "outputs": [
    {
     "name": "stdout",
     "output_type": "stream",
     "text": [
      "http://localhost:5000/\n",
      "http://localhost:5000/ping\n",
      "http://localhost:5000/receive_tensor\n",
      "<class 'tensorshare.schema.DefaultResponse'>\n"
     ]
    }
   ],
   "source": [
    "print(config.url)\n",
    "print(config.ping)\n",
    "print(config.receive_tensor)\n",
    "print(config.response_model)\n"
   ]
  },
  {
   "cell_type": "code",
   "execution_count": 36,
   "metadata": {},
   "outputs": [
    {
     "name": "stdout",
     "output_type": "stream",
     "text": [
      "http://localhost:5000/\n",
      "http\n",
      "localhost\n",
      "5000\n",
      "/\n"
     ]
    }
   ],
   "source": [
    "print(str(config.url))\n",
    "print(config.url.scheme)\n",
    "print(config.url.host)\n",
    "print(config.url.port)\n",
    "print(config.url.path)\n"
   ]
  },
  {
   "cell_type": "markdown",
   "metadata": {},
   "source": [
    "### TensorShareClient"
   ]
  },
  {
   "cell_type": "code",
   "execution_count": 38,
   "metadata": {},
   "outputs": [
    {
     "name": "stdout",
     "output_type": "stream",
     "text": [
      "Collecting aiohttp\n",
      "  Obtaining dependency information for aiohttp from https://files.pythonhosted.org/packages/d0/54/679e181e175280c305b063d82161c467763d18a61a17596b2567d4bc97b3/aiohttp-3.8.5-cp38-cp38-macosx_11_0_arm64.whl.metadata\n",
      "  Using cached aiohttp-3.8.5-cp38-cp38-macosx_11_0_arm64.whl.metadata (7.7 kB)\n",
      "Collecting attrs>=17.3.0 (from aiohttp)\n",
      "  Using cached attrs-23.1.0-py3-none-any.whl (61 kB)\n",
      "Collecting charset-normalizer<4.0,>=2.0 (from aiohttp)\n",
      "  Obtaining dependency information for charset-normalizer<4.0,>=2.0 from https://files.pythonhosted.org/packages/9c/71/bf12b8e0d6e1d84ed29c3e16ea1efc47ae96487bde823130d12139c434a0/charset_normalizer-3.2.0-cp38-cp38-macosx_11_0_arm64.whl.metadata\n",
      "  Using cached charset_normalizer-3.2.0-cp38-cp38-macosx_11_0_arm64.whl.metadata (31 kB)\n",
      "Collecting multidict<7.0,>=4.5 (from aiohttp)\n",
      "  Using cached multidict-6.0.4-cp38-cp38-macosx_11_0_arm64.whl (29 kB)\n",
      "Collecting async-timeout<5.0,>=4.0.0a3 (from aiohttp)\n",
      "  Obtaining dependency information for async-timeout<5.0,>=4.0.0a3 from https://files.pythonhosted.org/packages/a7/fa/e01228c2938de91d47b307831c62ab9e4001e747789d0b05baf779a6488c/async_timeout-4.0.3-py3-none-any.whl.metadata\n",
      "  Using cached async_timeout-4.0.3-py3-none-any.whl.metadata (4.2 kB)\n",
      "Collecting yarl<2.0,>=1.0 (from aiohttp)\n",
      "  Using cached yarl-1.9.2-cp38-cp38-macosx_11_0_arm64.whl (62 kB)\n",
      "Collecting frozenlist>=1.1.1 (from aiohttp)\n",
      "  Obtaining dependency information for frozenlist>=1.1.1 from https://files.pythonhosted.org/packages/34/7b/41f1ad381035cecbe54e0cfce2608d6ed1d02ded6f342f1a54431e960a0f/frozenlist-1.4.0-cp38-cp38-macosx_11_0_arm64.whl.metadata\n",
      "  Using cached frozenlist-1.4.0-cp38-cp38-macosx_11_0_arm64.whl.metadata (5.2 kB)\n",
      "Collecting aiosignal>=1.1.2 (from aiohttp)\n",
      "  Using cached aiosignal-1.3.1-py3-none-any.whl (7.6 kB)\n",
      "Requirement already satisfied: idna>=2.0 in /Users/chainyo/miniconda3/envs/test-ts/lib/python3.8/site-packages (from yarl<2.0,>=1.0->aiohttp) (3.4)\n",
      "Using cached aiohttp-3.8.5-cp38-cp38-macosx_11_0_arm64.whl (344 kB)\n",
      "Using cached async_timeout-4.0.3-py3-none-any.whl (5.7 kB)\n",
      "Using cached charset_normalizer-3.2.0-cp38-cp38-macosx_11_0_arm64.whl (122 kB)\n",
      "Using cached frozenlist-1.4.0-cp38-cp38-macosx_11_0_arm64.whl (46 kB)\n",
      "Installing collected packages: multidict, frozenlist, charset-normalizer, attrs, async-timeout, yarl, aiosignal, aiohttp\n",
      "Successfully installed aiohttp-3.8.5 aiosignal-1.3.1 async-timeout-4.0.3 attrs-23.1.0 charset-normalizer-3.2.0 frozenlist-1.4.0 multidict-6.0.4 yarl-1.9.2\n"
     ]
    }
   ],
   "source": [
    "!pip install aiohttp"
   ]
  },
  {
   "cell_type": "code",
   "execution_count": 43,
   "metadata": {},
   "outputs": [],
   "source": [
    "from tensorshare import TensorShareServer, TensorShareClient\n",
    "\n",
    "server_config = TensorShareServer.from_dict(\n",
    "    server_config={\"url\": \"http://localhost:8765\"}\n",
    ")\n",
    "client = TensorShareClient(server_config, timeout=10, validate_endpoints=False)"
   ]
  },
  {
   "cell_type": "code",
   "execution_count": 45,
   "metadata": {},
   "outputs": [
    {
     "data": {
      "text/plain": [
       "True"
      ]
     },
     "execution_count": 45,
     "metadata": {},
     "output_type": "execute_result"
    }
   ],
   "source": [
    "await client.async_ping_server()"
   ]
  },
  {
   "cell_type": "code",
   "execution_count": 46,
   "metadata": {},
   "outputs": [
    {
     "data": {
      "text/plain": [
       "<ClientResponse(http://localhost:8765/receive_tensor) [200 OK]>\n",
       "<CIMultiDictProxy('Date': 'Wed, 16 Aug 2023 11:19:21 GMT', 'Server': 'uvicorn', 'Content-Length': '22', 'Content-Type': 'application/json')>"
      ]
     },
     "execution_count": 46,
     "metadata": {},
     "output_type": "execute_result"
    }
   ],
   "source": [
    "import torch\n",
    "from tensorshare import Backend, TensorShare\n",
    "\n",
    "tensors = {\n",
    "    \"embeddings\": torch.zeros((2, 2)),\n",
    "    \"labels\": torch.zeros((2, 2)),\n",
    "}\n",
    "ts = TensorShare.from_dict(tensors, backend=Backend.TORCH)\n",
    "\n",
    "await client.async_send_tensor(ts)"
   ]
  },
  {
   "cell_type": "markdown",
   "metadata": {},
   "source": [
    "## FastAPI Integration"
   ]
  },
  {
   "cell_type": "code",
   "execution_count": 61,
   "metadata": {},
   "outputs": [
    {
     "name": "stdout",
     "output_type": "stream",
     "text": [
      "Requirement already satisfied: fastapi in /Users/chainyo/miniconda3/envs/test-ts/lib/python3.8/site-packages (0.101.1)\n",
      "Requirement already satisfied: pydantic!=1.8,!=1.8.1,!=2.0.0,!=2.0.1,!=2.1.0,<3.0.0,>=1.7.4 in /Users/chainyo/miniconda3/envs/test-ts/lib/python3.8/site-packages (from fastapi) (2.1.1)\n",
      "Requirement already satisfied: starlette<0.28.0,>=0.27.0 in /Users/chainyo/miniconda3/envs/test-ts/lib/python3.8/site-packages (from fastapi) (0.27.0)\n",
      "Requirement already satisfied: typing-extensions>=4.5.0 in /Users/chainyo/miniconda3/envs/test-ts/lib/python3.8/site-packages (from fastapi) (4.7.1)\n",
      "Requirement already satisfied: annotated-types>=0.4.0 in /Users/chainyo/miniconda3/envs/test-ts/lib/python3.8/site-packages (from pydantic!=1.8,!=1.8.1,!=2.0.0,!=2.0.1,!=2.1.0,<3.0.0,>=1.7.4->fastapi) (0.5.0)\n",
      "Requirement already satisfied: pydantic-core==2.4.0 in /Users/chainyo/miniconda3/envs/test-ts/lib/python3.8/site-packages (from pydantic!=1.8,!=1.8.1,!=2.0.0,!=2.0.1,!=2.1.0,<3.0.0,>=1.7.4->fastapi) (2.4.0)\n",
      "Requirement already satisfied: anyio<5,>=3.4.0 in /Users/chainyo/miniconda3/envs/test-ts/lib/python3.8/site-packages (from starlette<0.28.0,>=0.27.0->fastapi) (3.7.1)\n",
      "Requirement already satisfied: idna>=2.8 in /Users/chainyo/miniconda3/envs/test-ts/lib/python3.8/site-packages (from anyio<5,>=3.4.0->starlette<0.28.0,>=0.27.0->fastapi) (3.4)\n",
      "Requirement already satisfied: sniffio>=1.1 in /Users/chainyo/miniconda3/envs/test-ts/lib/python3.8/site-packages (from anyio<5,>=3.4.0->starlette<0.28.0,>=0.27.0->fastapi) (1.3.0)\n",
      "Requirement already satisfied: exceptiongroup in /Users/chainyo/miniconda3/envs/test-ts/lib/python3.8/site-packages (from anyio<5,>=3.4.0->starlette<0.28.0,>=0.27.0->fastapi) (1.1.3)\n"
     ]
    }
   ],
   "source": [
    "!pip install fastapi"
   ]
  },
  {
   "cell_type": "code",
   "execution_count": 62,
   "metadata": {},
   "outputs": [
    {
     "name": "stdout",
     "output_type": "stream",
     "text": [
      "Route(path='/openapi.json', name='openapi', methods=['GET', 'HEAD'])\n",
      "Route(path='/docs', name='swagger_ui_html', methods=['GET', 'HEAD'])\n",
      "Route(path='/docs/oauth2-redirect', name='swagger_ui_redirect', methods=['GET', 'HEAD'])\n",
      "Route(path='/redoc', name='redoc_html', methods=['GET', 'HEAD'])\n",
      "APIRoute(path='/receive_tensor', name='receive_tensor', methods=['POST'])\n",
      "APIRoute(path='/ping', name='ping', methods=['GET'])\n"
     ]
    }
   ],
   "source": [
    "from fastapi import FastAPI\n",
    "from tensorshare import create_async_tensorshare_router\n",
    "\n",
    "\n",
    "app = FastAPI()  # Your FastAPI application\n",
    "\n",
    "ts_router = create_async_tensorshare_router()\n",
    "app.include_router(ts_router)\n",
    "\n",
    "for route in app.routes:\n",
    "    print(route)"
   ]
  }
 ],
 "metadata": {
  "kernelspec": {
   "display_name": "test-ts",
   "language": "python",
   "name": "python3"
  },
  "language_info": {
   "codemirror_mode": {
    "name": "ipython",
    "version": 3
   },
   "file_extension": ".py",
   "mimetype": "text/x-python",
   "name": "python",
   "nbconvert_exporter": "python",
   "pygments_lexer": "ipython3",
   "version": "3.8.17"
  },
  "orig_nbformat": 4
 },
 "nbformat": 4,
 "nbformat_minor": 2
}
